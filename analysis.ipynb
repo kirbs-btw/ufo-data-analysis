{
 "cells": [
  {
   "cell_type": "markdown",
   "metadata": {},
   "source": [
    "# Einleitung \n",
    "## Datensatz auswahl und Bereitstellung\n",
    "- Kaggle \n",
    "- Cleaning über ein paar python datein \"clean_ufo_data.csv\"\n",
    "- über die index.html wird das Dashboard sichtbar\n",
    "\n",
    "## Kontext untersucht\n",
    "- untersuchung der Quelle des Datensatz https://nuforc.org/\n",
    "    - wie werden die Quellen validiert\n",
    "- google suche\n",
    "- finde ich noch bücher dazu ? \n",
    "\n",
    "## Projekt vorgehen \n",
    "- generelle untersuchung der Daten über ein Notebook \n",
    "- überlegungen über gegeben Fragen des Datensatz\n",
    "    - zusammenhänge mit Kulturellen ereignissen \n",
    "    - airports?\n",
    "- darstellung von spannenden grafiken auf dem Dashboard \n",
    "- \n",
    "\n",
    "## Motivation\n",
    "- die abgabe in der Vorlesung \n",
    "- interessante daten und zusammenhänge \n",
    "\n",
    "\n",
    "## Defintion der Zielgruppe "
   ]
  }
 ],
 "metadata": {
  "language_info": {
   "name": "python"
  }
 },
 "nbformat": 4,
 "nbformat_minor": 2
}
